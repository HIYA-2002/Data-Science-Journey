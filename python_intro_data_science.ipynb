{
 "cells": [
  {
   "cell_type": "markdown",
   "id": "f3378399-90f1-496d-847c-78dda58b6280",
   "metadata": {},
   "source": [
    "# This is Python tutorial"
   ]
  },
  {
   "cell_type": "code",
   "execution_count": 1,
   "id": "b1d644e4-6fd0-4928-b45a-4db13e8d7a54",
   "metadata": {},
   "outputs": [],
   "source": [
    "# hello"
   ]
  },
  {
   "cell_type": "code",
   "execution_count": 2,
   "id": "79e6856b-a3d8-43ff-9085-0f1b07bc26eb",
   "metadata": {},
   "outputs": [
    {
     "name": "stdout",
     "output_type": "stream",
     "text": [
      "Hello Data Science!\n"
     ]
    }
   ],
   "source": [
    "print(\"Hello Data Science!\")"
   ]
  },
  {
   "cell_type": "code",
   "execution_count": 3,
   "id": "1d8348f1-17b8-48d7-969e-53ba3b1800c4",
   "metadata": {},
   "outputs": [
    {
     "name": "stdout",
     "output_type": "stream",
     "text": [
      "32\n"
     ]
    }
   ],
   "source": [
    "print(2**5)"
   ]
  },
  {
   "cell_type": "code",
   "execution_count": 4,
   "id": "d6c76a09-1fdb-46f8-9e3a-b38cbfdaad12",
   "metadata": {},
   "outputs": [
    {
     "name": "stdout",
     "output_type": "stream",
     "text": [
      "All libraries installed correctly!\n"
     ]
    }
   ],
   "source": [
    "import pandas as pd\n",
    "import numpy as np\n",
    "import matplotlib.pyplot as plt\n",
    "import seaborn as sns\n",
    "from sklearn.linear_model import LinearRegression\n",
    "\n",
    "print(\"All libraries installed correctly!\")\n"
   ]
  },
  {
   "cell_type": "markdown",
   "id": "86764f18-9d2c-455c-a00e-e242977fd58c",
   "metadata": {},
   "source": [
    "# Variables"
   ]
  },
  {
   "cell_type": "code",
   "execution_count": 5,
   "id": "2ce387c7-7588-4795-95c3-17d75f67c447",
   "metadata": {},
   "outputs": [],
   "source": [
    "x=3\n"
   ]
  },
  {
   "cell_type": "code",
   "execution_count": 6,
   "id": "7a38c219-bfab-4b64-ade0-a31358a74cc7",
   "metadata": {},
   "outputs": [
    {
     "name": "stdout",
     "output_type": "stream",
     "text": [
      "Variable               Type        Data/Info\n",
      "--------------------------------------------\n",
      "LinearRegression       ABCMeta     <class 'sklearn.linear_mo<...>._base.LinearRegression'>\n",
      "dataframe_columns      function    <function dataframe_colum<...>ns at 0x000001863BCAD9E0>\n",
      "dataframe_hash         function    <function dataframe_hash at 0x000001863BCAD8A0>\n",
      "dtypes_str             function    <function dtypes_str at 0x000001863BCAD800>\n",
      "get_dataframes         function    <function get_dataframes at 0x000001863E1484A0>\n",
      "getpass                module      <module 'getpass' from 'C<...>conda3\\\\Lib\\\\getpass.py'>\n",
      "hashlib                module      <module 'hashlib' from 'C<...>conda3\\\\Lib\\\\hashlib.py'>\n",
      "import_pandas_safely   function    <function import_pandas_s<...>ly at 0x0000018641A127A0>\n",
      "is_data_frame          function    <function is_data_frame at 0x0000018641A12480>\n",
      "json                   module      <module 'json' from 'C:\\\\<...>\\Lib\\\\json\\\\__init__.py'>\n",
      "np                     module      <module 'numpy' from 'C:\\<...>ges\\\\numpy\\\\__init__.py'>\n",
      "pd                     module      <module 'pandas' from 'C:<...>es\\\\pandas\\\\__init__.py'>\n",
      "plt                    module      <module 'matplotlib.pyplo<...>\\\\matplotlib\\\\pyplot.py'>\n",
      "sns                    module      <module 'seaborn' from 'C<...>s\\\\seaborn\\\\__init__.py'>\n",
      "x                      int         3\n"
     ]
    }
   ],
   "source": [
    "%whos"
   ]
  },
  {
   "cell_type": "code",
   "execution_count": 7,
   "id": "1c75fd45-e432-455c-aff8-78592badee8c",
   "metadata": {},
   "outputs": [
    {
     "name": "stdout",
     "output_type": "stream",
     "text": [
      "<class 'int'>\n"
     ]
    }
   ],
   "source": [
    "print(type(x))"
   ]
  },
  {
   "cell_type": "code",
   "execution_count": 8,
   "id": "a4a496ee-2e06-48d4-8ebb-252279fb6e3c",
   "metadata": {},
   "outputs": [],
   "source": [
    "x=5.7"
   ]
  },
  {
   "cell_type": "code",
   "execution_count": 9,
   "id": "f7babd89-eabf-48f8-949a-fd84ef7f2c71",
   "metadata": {},
   "outputs": [
    {
     "name": "stdout",
     "output_type": "stream",
     "text": [
      "<class 'float'>\n"
     ]
    }
   ],
   "source": [
    "print(type(x))"
   ]
  },
  {
   "cell_type": "code",
   "execution_count": 10,
   "id": "687d748f-e677-4638-87f5-e58311abb715",
   "metadata": {},
   "outputs": [
    {
     "name": "stdout",
     "output_type": "stream",
     "text": [
      "Variable               Type        Data/Info\n",
      "--------------------------------------------\n",
      "LinearRegression       ABCMeta     <class 'sklearn.linear_mo<...>._base.LinearRegression'>\n",
      "dataframe_columns      function    <function dataframe_colum<...>ns at 0x000001863BCAD9E0>\n",
      "dataframe_hash         function    <function dataframe_hash at 0x000001863BCAD8A0>\n",
      "dtypes_str             function    <function dtypes_str at 0x000001863BCAD800>\n",
      "get_dataframes         function    <function get_dataframes at 0x000001863E1484A0>\n",
      "getpass                module      <module 'getpass' from 'C<...>conda3\\\\Lib\\\\getpass.py'>\n",
      "hashlib                module      <module 'hashlib' from 'C<...>conda3\\\\Lib\\\\hashlib.py'>\n",
      "import_pandas_safely   function    <function import_pandas_s<...>ly at 0x0000018641A127A0>\n",
      "is_data_frame          function    <function is_data_frame at 0x0000018641A12480>\n",
      "json                   module      <module 'json' from 'C:\\\\<...>\\Lib\\\\json\\\\__init__.py'>\n",
      "np                     module      <module 'numpy' from 'C:\\<...>ges\\\\numpy\\\\__init__.py'>\n",
      "pd                     module      <module 'pandas' from 'C:<...>es\\\\pandas\\\\__init__.py'>\n",
      "plt                    module      <module 'matplotlib.pyplo<...>\\\\matplotlib\\\\pyplot.py'>\n",
      "sns                    module      <module 'seaborn' from 'C<...>s\\\\seaborn\\\\__init__.py'>\n",
      "x                      float       5.7\n"
     ]
    }
   ],
   "source": [
    "%whos"
   ]
  },
  {
   "cell_type": "code",
   "execution_count": 11,
   "id": "622e8bfc-67ed-4bd8-8ff2-623d6a2c9254",
   "metadata": {},
   "outputs": [],
   "source": [
    "a,b,c,d,e=3,6,4,5,7"
   ]
  },
  {
   "cell_type": "code",
   "execution_count": 12,
   "id": "118900e3-62eb-4e39-9413-debee5088462",
   "metadata": {},
   "outputs": [
    {
     "name": "stdout",
     "output_type": "stream",
     "text": [
      "Variable               Type        Data/Info\n",
      "--------------------------------------------\n",
      "LinearRegression       ABCMeta     <class 'sklearn.linear_mo<...>._base.LinearRegression'>\n",
      "a                      int         3\n",
      "b                      int         6\n",
      "c                      int         4\n",
      "d                      int         5\n",
      "dataframe_columns      function    <function dataframe_colum<...>ns at 0x000001863BCAD9E0>\n",
      "dataframe_hash         function    <function dataframe_hash at 0x000001863BCAD8A0>\n",
      "dtypes_str             function    <function dtypes_str at 0x000001863BCAD800>\n",
      "e                      int         7\n",
      "get_dataframes         function    <function get_dataframes at 0x000001863E1484A0>\n",
      "getpass                module      <module 'getpass' from 'C<...>conda3\\\\Lib\\\\getpass.py'>\n",
      "hashlib                module      <module 'hashlib' from 'C<...>conda3\\\\Lib\\\\hashlib.py'>\n",
      "import_pandas_safely   function    <function import_pandas_s<...>ly at 0x0000018641A127A0>\n",
      "is_data_frame          function    <function is_data_frame at 0x0000018641A12480>\n",
      "json                   module      <module 'json' from 'C:\\\\<...>\\Lib\\\\json\\\\__init__.py'>\n",
      "np                     module      <module 'numpy' from 'C:\\<...>ges\\\\numpy\\\\__init__.py'>\n",
      "pd                     module      <module 'pandas' from 'C:<...>es\\\\pandas\\\\__init__.py'>\n",
      "plt                    module      <module 'matplotlib.pyplo<...>\\\\matplotlib\\\\pyplot.py'>\n",
      "sns                    module      <module 'seaborn' from 'C<...>s\\\\seaborn\\\\__init__.py'>\n",
      "x                      float       5.7\n"
     ]
    }
   ],
   "source": [
    "%whos"
   ]
  },
  {
   "cell_type": "code",
   "execution_count": 13,
   "id": "e6544bc4-bb2c-4eef-b82c-127a517a0c54",
   "metadata": {},
   "outputs": [],
   "source": [
    "c=2+4j"
   ]
  },
  {
   "cell_type": "code",
   "execution_count": 14,
   "id": "18c0c8ad-a06f-4354-8e06-b4138b7a9125",
   "metadata": {},
   "outputs": [
    {
     "name": "stdout",
     "output_type": "stream",
     "text": [
      "<class 'complex'>\n"
     ]
    }
   ],
   "source": [
    "print(type(c))"
   ]
  },
  {
   "cell_type": "code",
   "execution_count": 15,
   "id": "718103c2-6419-4992-af5c-2beba0772b26",
   "metadata": {},
   "outputs": [],
   "source": [
    "s=\"Hello\""
   ]
  },
  {
   "cell_type": "code",
   "execution_count": 16,
   "id": "feb54b82-c92c-40c8-9bfa-85740b97b4d2",
   "metadata": {},
   "outputs": [
    {
     "name": "stdout",
     "output_type": "stream",
     "text": [
      "<class 'str'>\n"
     ]
    }
   ],
   "source": [
    "print(type(s))"
   ]
  },
  {
   "cell_type": "markdown",
   "id": "5b8e319c-3229-4989-9137-e194812252fb",
   "metadata": {},
   "source": [
    "# Operators"
   ]
  },
  {
   "cell_type": "code",
   "execution_count": 17,
   "id": "43672a94-caa8-4107-aff4-2d09a4f35ce7",
   "metadata": {},
   "outputs": [],
   "source": [
    "sum_ab = a+b"
   ]
  },
  {
   "cell_type": "code",
   "execution_count": 18,
   "id": "cf5e10dc-8809-49c4-829b-b749fa54494b",
   "metadata": {},
   "outputs": [
    {
     "name": "stdout",
     "output_type": "stream",
     "text": [
      "9\n"
     ]
    }
   ],
   "source": [
    "print(sum_ab)"
   ]
  },
  {
   "cell_type": "code",
   "execution_count": 19,
   "id": "fcc1b59c-0133-4f8c-8c48-658c143dfb4b",
   "metadata": {},
   "outputs": [
    {
     "data": {
      "text/plain": [
       "int"
      ]
     },
     "execution_count": 19,
     "metadata": {},
     "output_type": "execute_result"
    }
   ],
   "source": [
    "type(sum_ab)\n"
   ]
  },
  {
   "cell_type": "code",
   "execution_count": 20,
   "id": "9df1d881-d3bb-4ff7-94fa-0eb33a7c1919",
   "metadata": {},
   "outputs": [],
   "source": [
    "a,b,c,d,e=6,7.8,2,-5,4"
   ]
  },
  {
   "cell_type": "code",
   "execution_count": 21,
   "id": "d637d7d0-b7bf-4122-bfb5-51170550cc3a",
   "metadata": {},
   "outputs": [
    {
     "data": {
      "text/plain": [
       "float"
      ]
     },
     "execution_count": 21,
     "metadata": {},
     "output_type": "execute_result"
    }
   ],
   "source": [
    "type(b+d)"
   ]
  },
  {
   "cell_type": "code",
   "execution_count": 22,
   "id": "725ef3c4-4ff5-472f-a026-87e9990cc84f",
   "metadata": {},
   "outputs": [],
   "source": [
    "v=((a+b)**3)/4"
   ]
  },
  {
   "cell_type": "code",
   "execution_count": 23,
   "id": "60be787a-7c27-4055-9012-5540e80a6b0c",
   "metadata": {},
   "outputs": [
    {
     "name": "stdout",
     "output_type": "stream",
     "text": [
      "657.0180000000001\n"
     ]
    }
   ],
   "source": [
    "print(v)"
   ]
  },
  {
   "cell_type": "code",
   "execution_count": 24,
   "id": "0511b6f9-7630-4462-ad2f-e3edd234e7b1",
   "metadata": {},
   "outputs": [],
   "source": [
    "s1=\"Hello\""
   ]
  },
  {
   "cell_type": "code",
   "execution_count": 25,
   "id": "58dd4e45-22bf-48d3-b971-27a3b5e34829",
   "metadata": {},
   "outputs": [],
   "source": [
    "s2=\"World\"\n",
    "s=s1+s2"
   ]
  },
  {
   "cell_type": "code",
   "execution_count": 26,
   "id": "a48a167c-a5cd-441f-bea5-7406bb308e51",
   "metadata": {},
   "outputs": [
    {
     "name": "stdout",
     "output_type": "stream",
     "text": [
      "HelloWorld\n"
     ]
    }
   ],
   "source": [
    "print(s)"
   ]
  },
  {
   "cell_type": "code",
   "execution_count": 27,
   "id": "693fe4d6-f902-4b31-a6f3-620fb6a8d27d",
   "metadata": {},
   "outputs": [
    {
     "data": {
      "text/plain": [
       "33"
      ]
     },
     "execution_count": 27,
     "metadata": {},
     "output_type": "execute_result"
    }
   ],
   "source": [
    "100//3"
   ]
  },
  {
   "cell_type": "code",
   "execution_count": 28,
   "id": "4c0da956-0595-47b6-a6ee-068a83ec674e",
   "metadata": {},
   "outputs": [
    {
     "data": {
      "text/plain": [
       "33.333333333333336"
      ]
     },
     "execution_count": 28,
     "metadata": {},
     "output_type": "execute_result"
    }
   ],
   "source": [
    "100/3"
   ]
  },
  {
   "cell_type": "code",
   "execution_count": 29,
   "id": "47e81fa2-9d66-4413-a852-a76172c183d2",
   "metadata": {},
   "outputs": [
    {
     "ename": "SyntaxError",
     "evalue": "invalid decimal literal (780852407.py, line 1)",
     "output_type": "error",
     "traceback": [
      "\u001b[1;36m  Cell \u001b[1;32mIn[29], line 1\u001b[1;36m\u001b[0m\n\u001b[1;33m    5x=6\u001b[0m\n\u001b[1;37m    ^\u001b[0m\n\u001b[1;31mSyntaxError\u001b[0m\u001b[1;31m:\u001b[0m invalid decimal literal\n"
     ]
    }
   ],
   "source": [
    "5x=6"
   ]
  },
  {
   "cell_type": "code",
   "execution_count": null,
   "id": "db368f2e-3f99-468c-82da-fffc3fbf34b8",
   "metadata": {},
   "outputs": [],
   "source": [
    "@y=8"
   ]
  },
  {
   "cell_type": "code",
   "execution_count": null,
   "id": "8e3d957c-1563-43b8-8ba2-61650e4b4d5a",
   "metadata": {},
   "outputs": [],
   "source": [
    "_e=4"
   ]
  },
  {
   "cell_type": "code",
   "execution_count": null,
   "id": "e9f7b66b-7d06-4031-8294-cec14c0360b5",
   "metadata": {},
   "outputs": [],
   "source": [
    "$t=2.5"
   ]
  },
  {
   "cell_type": "code",
   "execution_count": null,
   "id": "a02a62e1-d8fc-4f82-a326-5f2f0608b725",
   "metadata": {},
   "outputs": [],
   "source": [
    "startingTimeOfTheCourse=2.0"
   ]
  },
  {
   "cell_type": "code",
   "execution_count": null,
   "id": "9ac79cb4-d41d-48c5-bd8e-9cc80214b49e",
   "metadata": {},
   "outputs": [],
   "source": [
    "%whos"
   ]
  },
  {
   "cell_type": "markdown",
   "id": "b6b8aec2-e1db-4964-81e9-56d429193d6d",
   "metadata": {},
   "source": [
    "# Boolean\n"
   ]
  },
  {
   "cell_type": "code",
   "execution_count": 43,
   "id": "4b9d8098-e49c-41e2-9d35-9d96ed1ce976",
   "metadata": {},
   "outputs": [],
   "source": [
    "a=True\n",
    "b=True\n",
    "c=False"
   ]
  },
  {
   "cell_type": "code",
   "execution_count": 44,
   "id": "eea14e11-de0f-49e5-af7e-c4695e17bf5c",
   "metadata": {},
   "outputs": [
    {
     "name": "stdout",
     "output_type": "stream",
     "text": [
      "Variable               Type        Data/Info\n",
      "--------------------------------------------\n",
      "LinearRegression       ABCMeta     <class 'sklearn.linear_mo<...>._base.LinearRegression'>\n",
      "a                      bool        True\n",
      "b                      bool        True\n",
      "c                      bool        False\n",
      "d                      bool        False\n",
      "dataframe_columns      function    <function dataframe_colum<...>ns at 0x000001863BCAEC00>\n",
      "dataframe_hash         function    <function dataframe_hash at 0x000001863BCAD800>\n",
      "dtypes_str             function    <function dtypes_str at 0x000001863BCAE7A0>\n",
      "e                      int         4\n",
      "g                      tuple       n=2\n",
      "get_dataframes         function    <function get_dataframes at 0x000001863BCAE480>\n",
      "getpass                module      <module 'getpass' from 'C<...>conda3\\\\Lib\\\\getpass.py'>\n",
      "hashlib                module      <module 'hashlib' from 'C<...>conda3\\\\Lib\\\\hashlib.py'>\n",
      "import_pandas_safely   function    <function import_pandas_s<...>ly at 0x000001864370B240>\n",
      "is_data_frame          function    <function is_data_frame at 0x000001864370B9C0>\n",
      "json                   module      <module 'json' from 'C:\\\\<...>\\Lib\\\\json\\\\__init__.py'>\n",
      "np                     module      <module 'numpy' from 'C:\\<...>ges\\\\numpy\\\\__init__.py'>\n",
      "pd                     module      <module 'pandas' from 'C:<...>es\\\\pandas\\\\__init__.py'>\n",
      "plt                    module      <module 'matplotlib.pyplo<...>\\\\matplotlib\\\\pyplot.py'>\n",
      "r                      int         -4\n",
      "s                      str         HelloWorld\n",
      "s1                     str         Hello\n",
      "s2                     str         World\n",
      "sns                    module      <module 'seaborn' from 'C<...>s\\\\seaborn\\\\__init__.py'>\n",
      "sum_ab                 int         9\n",
      "v                      float       657.0180000000001\n",
      "x                      int         4\n",
      "y                      int         2\n",
      "z                      float       7.4\n"
     ]
    }
   ],
   "source": [
    "%whos"
   ]
  },
  {
   "cell_type": "code",
   "execution_count": 45,
   "id": "54301662-a97a-4883-878e-c523b45318d4",
   "metadata": {},
   "outputs": [
    {
     "name": "stdout",
     "output_type": "stream",
     "text": [
      "True\n",
      "False\n",
      "False\n"
     ]
    }
   ],
   "source": [
    "print(a and b)\n",
    "print(a and c)\n",
    "print(b and c)"
   ]
  },
  {
   "cell_type": "code",
   "execution_count": 46,
   "id": "c1b894d8-b83f-4e33-9b6e-b50a553e1f5b",
   "metadata": {},
   "outputs": [
    {
     "name": "stdout",
     "output_type": "stream",
     "text": [
      "True\n",
      "True\n",
      "True\n"
     ]
    }
   ],
   "source": [
    "print(a or b)\n",
    "print(a or c)\n",
    "print(b or c)"
   ]
  },
  {
   "cell_type": "code",
   "execution_count": 47,
   "id": "9dd7ee74-0db0-4d23-847a-485396ed0015",
   "metadata": {},
   "outputs": [
    {
     "data": {
      "text/plain": [
       "False"
      ]
     },
     "execution_count": 47,
     "metadata": {},
     "output_type": "execute_result"
    }
   ],
   "source": [
    "not(a)"
   ]
  },
  {
   "cell_type": "code",
   "execution_count": 51,
   "id": "88e282fb-8e19-4abc-84b0-748b1b6b1a2c",
   "metadata": {},
   "outputs": [],
   "source": [
    "t= not(c)"
   ]
  },
  {
   "cell_type": "code",
   "execution_count": 49,
   "id": "a46c53ee-b6ef-47f7-bf9f-abc0902a3697",
   "metadata": {},
   "outputs": [
    {
     "name": "stdout",
     "output_type": "stream",
     "text": [
      "<class 'bool'>\n"
     ]
    }
   ],
   "source": [
    "print(type(t))"
   ]
  },
  {
   "cell_type": "markdown",
   "id": "a58e403e-fc40-4937-a591-f642ca9a2ec8",
   "metadata": {},
   "source": [
    "### Comparisons"
   ]
  },
  {
   "cell_type": "code",
   "execution_count": 38,
   "id": "b227e85d-ff44-4658-8514-1215d8e3c4ff",
   "metadata": {},
   "outputs": [
    {
     "name": "stdout",
     "output_type": "stream",
     "text": [
      "True\n"
     ]
    }
   ],
   "source": [
    "print(2<3)"
   ]
  },
  {
   "cell_type": "code",
   "execution_count": 39,
   "id": "52f67e39-9483-49d5-80d9-3afd4d97aee3",
   "metadata": {},
   "outputs": [
    {
     "name": "stdout",
     "output_type": "stream",
     "text": [
      "<class 'bool'>\n",
      "False\n"
     ]
    }
   ],
   "source": [
    "c=4>6\n",
    "print(type(c))\n",
    "print(c)"
   ]
  },
  {
   "cell_type": "code",
   "execution_count": 40,
   "id": "a3945073-be72-4a52-91ae-bb39d9801965",
   "metadata": {},
   "outputs": [],
   "source": [
    "d= 3==4"
   ]
  },
  {
   "cell_type": "code",
   "execution_count": 41,
   "id": "5e4a4270-3198-4245-8c83-6ef3c2561914",
   "metadata": {},
   "outputs": [
    {
     "name": "stdout",
     "output_type": "stream",
     "text": [
      "False\n"
     ]
    }
   ],
   "source": [
    "print(d)"
   ]
  },
  {
   "cell_type": "code",
   "execution_count": 42,
   "id": "94f8aad5-c6d4-4d31-8d0b-374ceefbfade",
   "metadata": {},
   "outputs": [
    {
     "data": {
      "text/plain": [
       "True"
      ]
     },
     "execution_count": 42,
     "metadata": {},
     "output_type": "execute_result"
    }
   ],
   "source": [
    "3==3.0"
   ]
  },
  {
   "cell_type": "code",
   "execution_count": 36,
   "id": "6b91b546-0d6d-4f7a-b14f-7c360a4adf2f",
   "metadata": {},
   "outputs": [],
   "source": [
    "x=4\n",
    "y=2\n",
    "z=7.4\n",
    "r=-4"
   ]
  },
  {
   "cell_type": "code",
   "execution_count": 37,
   "id": "e3902d39-d5ed-4c51-ba76-3bcac9c2cd09",
   "metadata": {},
   "outputs": [
    {
     "data": {
      "text/plain": [
       "False"
      ]
     },
     "execution_count": 37,
     "metadata": {},
     "output_type": "execute_result"
    }
   ],
   "source": [
    "(x<y)and (z>y) or(r==x)"
   ]
  },
  {
   "cell_type": "code",
   "execution_count": 30,
   "id": "eed6818a-86dd-44fb-bea7-2127ca8d602c",
   "metadata": {},
   "outputs": [
    {
     "name": "stdout",
     "output_type": "stream",
     "text": [
      "False\n"
     ]
    }
   ],
   "source": [
    "print((not(2!=3) and False) or(True and False))"
   ]
  },
  {
   "cell_type": "code",
   "execution_count": 31,
   "id": "fb4f103d-6767-434e-a2d8-97c239640d5b",
   "metadata": {},
   "outputs": [
    {
     "name": "stdout",
     "output_type": "stream",
     "text": [
      "5\n"
     ]
    }
   ],
   "source": [
    "print(round(4.678))"
   ]
  },
  {
   "cell_type": "code",
   "execution_count": 32,
   "id": "c39075b3-ea4b-4632-b49e-5785e500b388",
   "metadata": {},
   "outputs": [
    {
     "name": "stdout",
     "output_type": "stream",
     "text": [
      "4\n"
     ]
    }
   ],
   "source": [
    "print(round(4.2))"
   ]
  },
  {
   "cell_type": "code",
   "execution_count": 33,
   "id": "1875da82-d096-452b-ba99-2e1504029f16",
   "metadata": {},
   "outputs": [
    {
     "name": "stdout",
     "output_type": "stream",
     "text": [
      "4.624\n"
     ]
    }
   ],
   "source": [
    "print(round(4.623849,3))"
   ]
  },
  {
   "cell_type": "code",
   "execution_count": 52,
   "id": "2abe2631-03d4-4b59-86ec-0533003a24f1",
   "metadata": {},
   "outputs": [],
   "source": [
    "g=divmod(27,5)"
   ]
  },
  {
   "cell_type": "code",
   "execution_count": 53,
   "id": "cad1e17f-f055-471a-a704-edda3ef13628",
   "metadata": {},
   "outputs": [
    {
     "name": "stdout",
     "output_type": "stream",
     "text": [
      "(5, 2)\n"
     ]
    }
   ],
   "source": [
    "print(g)"
   ]
  },
  {
   "cell_type": "code",
   "execution_count": 54,
   "id": "be646519-fe27-49b9-b760-55c619205d5d",
   "metadata": {},
   "outputs": [
    {
     "name": "stdout",
     "output_type": "stream",
     "text": [
      "True\n"
     ]
    }
   ],
   "source": [
    "print(isinstance(1,int))"
   ]
  },
  {
   "cell_type": "code",
   "execution_count": 55,
   "id": "ed0de82a-e962-4f9c-b294-eafad29975db",
   "metadata": {},
   "outputs": [
    {
     "name": "stdout",
     "output_type": "stream",
     "text": [
      "True\n"
     ]
    }
   ],
   "source": [
    "print(isinstance(1.08,float))"
   ]
  },
  {
   "cell_type": "code",
   "execution_count": 56,
   "id": "f5634c72-c113-48e2-8de6-1bdb25eb6741",
   "metadata": {},
   "outputs": [
    {
     "name": "stdout",
     "output_type": "stream",
     "text": [
      "False\n"
     ]
    }
   ],
   "source": [
    "print(isinstance(1.08,int))"
   ]
  },
  {
   "cell_type": "code",
   "execution_count": 58,
   "id": "f320ba07-c542-4910-89ff-f23b571f2694",
   "metadata": {},
   "outputs": [
    {
     "name": "stdout",
     "output_type": "stream",
     "text": [
      "True\n"
     ]
    }
   ],
   "source": [
    "print(isinstance(1.08,(float,int)))"
   ]
  },
  {
   "cell_type": "code",
   "execution_count": 59,
   "id": "1b704743-67c9-4aa1-85d8-ba9d275b1a8b",
   "metadata": {},
   "outputs": [
    {
     "data": {
      "text/plain": [
       "4096"
      ]
     },
     "execution_count": 59,
     "metadata": {},
     "output_type": "execute_result"
    }
   ],
   "source": [
    "pow(4,6)"
   ]
  },
  {
   "cell_type": "code",
   "execution_count": 62,
   "id": "06ccac28-bc2f-4d36-843d-b62b49f07aaf",
   "metadata": {},
   "outputs": [
    {
     "data": {
      "text/plain": [
       "4"
      ]
     },
     "execution_count": 62,
     "metadata": {},
     "output_type": "execute_result"
    }
   ],
   "source": [
    "pow(4,9,5)"
   ]
  },
  {
   "cell_type": "code",
   "execution_count": 64,
   "id": "e836fbcc-023e-42b3-bcde-d0f798d46cfb",
   "metadata": {},
   "outputs": [
    {
     "name": "stdin",
     "output_type": "stream",
     "text": [
      "Enter your name:  Hiya Maiti\n"
     ]
    }
   ],
   "source": [
    "name= input(\"Enter your name: \")"
   ]
  },
  {
   "cell_type": "code",
   "execution_count": 65,
   "id": "471f7c41-c353-4e0a-9eaa-5f7e7fb1238f",
   "metadata": {},
   "outputs": [
    {
     "name": "stdin",
     "output_type": "stream",
     "text": [
      "Enter a number: 48\n"
     ]
    }
   ],
   "source": [
    "x=input(\"Enter a number:\")"
   ]
  },
  {
   "cell_type": "code",
   "execution_count": 66,
   "id": "9679a8c2-f23d-4b6d-b477-0f9f0c081458",
   "metadata": {},
   "outputs": [
    {
     "data": {
      "text/plain": [
       "str"
      ]
     },
     "execution_count": 66,
     "metadata": {},
     "output_type": "execute_result"
    }
   ],
   "source": [
    "type(x)"
   ]
  },
  {
   "cell_type": "code",
   "execution_count": 67,
   "id": "43d9b20c-9e3c-4a6e-abc5-858b49abe890",
   "metadata": {},
   "outputs": [
    {
     "name": "stdin",
     "output_type": "stream",
     "text": [
      "Enter your city:  Kolkata\n"
     ]
    }
   ],
   "source": [
    "city = input(\"Enter your city: \").strip().lower()\n"
   ]
  },
  {
   "cell_type": "code",
   "execution_count": 68,
   "id": "6383dc8b-e07d-40f9-9a61-475871c41ce7",
   "metadata": {},
   "outputs": [
    {
     "name": "stdin",
     "output_type": "stream",
     "text": [
      "Enter num: 45.8\n"
     ]
    }
   ],
   "source": [
    "y= float(input(\"Enter num:\"))"
   ]
  },
  {
   "cell_type": "code",
   "execution_count": 69,
   "id": "df990ed7-1fff-4709-9554-efa6364712ad",
   "metadata": {},
   "outputs": [
    {
     "name": "stdin",
     "output_type": "stream",
     "text": [
      "Enter num: abd\n"
     ]
    },
    {
     "ename": "ValueError",
     "evalue": "could not convert string to float: 'abd'",
     "output_type": "error",
     "traceback": [
      "\u001b[1;31m---------------------------------------------------------------------------\u001b[0m",
      "\u001b[1;31mValueError\u001b[0m                                Traceback (most recent call last)",
      "Cell \u001b[1;32mIn[69], line 1\u001b[0m\n\u001b[1;32m----> 1\u001b[0m z\u001b[38;5;241m=\u001b[39m \u001b[38;5;28mfloat\u001b[39m(\u001b[38;5;28minput\u001b[39m(\u001b[38;5;124m\"\u001b[39m\u001b[38;5;124mEnter num:\u001b[39m\u001b[38;5;124m\"\u001b[39m))\n",
      "\u001b[1;31mValueError\u001b[0m: could not convert string to float: 'abd'"
     ]
    }
   ],
   "source": [
    "z= float(input(\"Enter num:\"))"
   ]
  },
  {
   "cell_type": "code",
   "execution_count": 71,
   "id": "39b36384-946d-44b5-91b1-fbd974dd786f",
   "metadata": {},
   "outputs": [
    {
     "data": {
      "text/plain": [
       "\u001b[1;31mSignature:\u001b[0m \u001b[0mpow\u001b[0m\u001b[1;33m(\u001b[0m\u001b[0mbase\u001b[0m\u001b[1;33m,\u001b[0m \u001b[0mexp\u001b[0m\u001b[1;33m,\u001b[0m \u001b[0mmod\u001b[0m\u001b[1;33m=\u001b[0m\u001b[1;32mNone\u001b[0m\u001b[1;33m)\u001b[0m\u001b[1;33m\u001b[0m\u001b[1;33m\u001b[0m\u001b[0m\n",
       "\u001b[1;31mDocstring:\u001b[0m\n",
       "Equivalent to base**exp with 2 arguments or base**exp % mod with 3 arguments\n",
       "\n",
       "Some types, such as ints, are able to use a more efficient algorithm when\n",
       "invoked using the three argument form.\n",
       "\u001b[1;31mType:\u001b[0m      builtin_function_or_method"
      ]
     },
     "metadata": {},
     "output_type": "display_data"
    }
   ],
   "source": [
    "pow??"
   ]
  },
  {
   "cell_type": "code",
   "execution_count": 72,
   "id": "c99ec428-1433-4c89-831f-128dfebbdc29",
   "metadata": {},
   "outputs": [
    {
     "data": {
      "text/plain": [
       "\u001b[1;31mSignature:\u001b[0m \u001b[0mpow\u001b[0m\u001b[1;33m(\u001b[0m\u001b[0mbase\u001b[0m\u001b[1;33m,\u001b[0m \u001b[0mexp\u001b[0m\u001b[1;33m,\u001b[0m \u001b[0mmod\u001b[0m\u001b[1;33m=\u001b[0m\u001b[1;32mNone\u001b[0m\u001b[1;33m)\u001b[0m\u001b[1;33m\u001b[0m\u001b[1;33m\u001b[0m\u001b[0m\n",
       "\u001b[1;31mDocstring:\u001b[0m\n",
       "Equivalent to base**exp with 2 arguments or base**exp % mod with 3 arguments\n",
       "\n",
       "Some types, such as ints, are able to use a more efficient algorithm when\n",
       "invoked using the three argument form.\n",
       "\u001b[1;31mType:\u001b[0m      builtin_function_or_method"
      ]
     },
     "metadata": {},
     "output_type": "display_data"
    }
   ],
   "source": [
    "pow?\n"
   ]
  },
  {
   "cell_type": "code",
   "execution_count": 73,
   "id": "d4a0f8c2-5544-4ad2-b932-90de0693f88f",
   "metadata": {},
   "outputs": [
    {
     "name": "stdout",
     "output_type": "stream",
     "text": [
      "Help on built-in function pow in module builtins:\n",
      "\n",
      "pow(base, exp, mod=None)\n",
      "    Equivalent to base**exp with 2 arguments or base**exp % mod with 3 arguments\n",
      "\n",
      "    Some types, such as ints, are able to use a more efficient algorithm when\n",
      "    invoked using the three argument form.\n",
      "\n"
     ]
    }
   ],
   "source": [
    "help(pow)"
   ]
  },
  {
   "cell_type": "code",
   "execution_count": 74,
   "id": "4f72ffa8-9300-4281-97dc-05c60e526f84",
   "metadata": {},
   "outputs": [
    {
     "name": "stdout",
     "output_type": "stream",
     "text": [
      "Help on method raw_input in module ipykernel.kernelbase:\n",
      "\n",
      "raw_input(prompt='') method of ipykernel.ipkernel.IPythonKernel instance\n",
      "    Forward raw_input to frontends\n",
      "\n",
      "    Raises\n",
      "    ------\n",
      "    StdinNotImplementedError if active frontend doesn't support stdin.\n",
      "\n"
     ]
    }
   ],
   "source": [
    "help(input)"
   ]
  },
  {
   "cell_type": "code",
   "execution_count": 78,
   "id": "20c02170-8a62-4956-aaa4-4c93ba8c6c85",
   "metadata": {},
   "outputs": [
    {
     "name": "stdin",
     "output_type": "stream",
     "text": [
      "Enter the number:  42\n",
      "Enter the number:  19\n"
     ]
    },
    {
     "name": "stdout",
     "output_type": "stream",
     "text": [
      "42\n",
      "Outside of the condition\n"
     ]
    }
   ],
   "source": [
    "a=int(input(\"Enter the number: \"))\n",
    "b= int(input(\"Enter the number: \"))\n",
    "if a>b:\n",
    "    print (a)\n",
    "else:\n",
    "    print (b)\n",
    "    print(\"still inside the condition\")\n",
    "print(\"Outside of the condition\")"
   ]
  },
  {
   "cell_type": "code",
   "execution_count": 80,
   "id": "b90b9164-b328-4aa2-af25-f5152746a470",
   "metadata": {},
   "outputs": [
    {
     "name": "stdin",
     "output_type": "stream",
     "text": [
      "Enter the number:  56.84\n",
      "Enter the number:  56.83\n"
     ]
    },
    {
     "name": "stdout",
     "output_type": "stream",
     "text": [
      "p is greater than q\n",
      "Outside of the condition\n"
     ]
    }
   ],
   "source": [
    "p=float(input(\"Enter the number: \"))\n",
    "q= float(input(\"Enter the number: \"))\n",
    "if q>p:\n",
    "    print (\"q is greater than p\")\n",
    "elif q==p:\n",
    "    print(\"p and q are equal\")\n",
    "else:\n",
    "    print(\"p is greater than q\")\n",
    "print(\"Outside of the condition\")"
   ]
  },
  {
   "cell_type": "code",
   "execution_count": null,
   "id": "e4e6fb19-0dfe-4124-b23e-94c43124220d",
   "metadata": {},
   "outputs": [],
   "source": []
  }
 ],
 "metadata": {
  "kernelspec": {
   "display_name": "Python [conda env:base] *",
   "language": "python",
   "name": "conda-base-py"
  },
  "language_info": {
   "codemirror_mode": {
    "name": "ipython",
    "version": 3
   },
   "file_extension": ".py",
   "mimetype": "text/x-python",
   "name": "python",
   "nbconvert_exporter": "python",
   "pygments_lexer": "ipython3",
   "version": "3.13.5"
  }
 },
 "nbformat": 4,
 "nbformat_minor": 5
}
